{
  "cells": [
    {
      "cell_type": "markdown",
      "source": [
        "# **Reproduce DenseNet with Tensorflow and MNIST Dataset**\n",
        "### **Nama : Raihan Azhar Rafi**\n",
        "### **Kelas : TK-42-02**\n",
        "### **Nim : 1103180166**\n",
        "\n",
        "Sumber Paper Saya Peroleh Dari :https://arxiv.org/pdf/1608.06993.pdf\n",
        "\n",
        "Sumber Pencarian Referensi Paper Projek Saya Peroleh Dari : https://paperswithcode.com/paper/densely-connected-convolutional-networks  \n",
        "\n",
        "Sumber Reproduce Projek DenseNet Untuk Kebutuhan Tugas UAS Machine Learning\n",
        "Saya Peroleh Dari : https://github.com/yw0nam/DenseNet"
      ],
      "metadata": {
        "id": "1RVA33XBwuG4"
      }
    },
    {
      "cell_type": "code",
      "execution_count": 1,
      "metadata": {
        "ExecuteTime": {
          "end_time": "2020-02-03T20:42:59.611703Z",
          "start_time": "2020-02-03T20:42:58.333892Z"
        },
        "id": "JCyRWLO35tpf"
      },
      "outputs": [],
      "source": [
        "import tensorflow as tf\n",
        "import numpy as np\n",
        "\n",
        "# If you aren't using gpu, don't excecute below code\n",
        "# You can read document for below code here\n",
        "# https://www.tensorflow.org/guide/gpu\n",
        "\n",
        "# gpus = tf.config.experimental.list_physical_devices('GPU')\n",
        "# tf.config.experimental.set_visible_devices(gpus[1], 'GPU')\n",
        "# tf.config.experimental.set_memory_growth(gpus[1], True)"
      ]
    },
    {
      "cell_type": "code",
      "execution_count": 2,
      "metadata": {
        "colab": {
          "base_uri": "https://localhost:8080/"
        },
        "id": "dcQn1lDp5tpl",
        "outputId": "c1407897-6bbf-4aaf-9083-e9f246d83a9b"
      },
      "outputs": [
        {
          "output_type": "stream",
          "name": "stdout",
          "text": [
            "Downloading data from https://storage.googleapis.com/tensorflow/tf-keras-datasets/mnist.npz\n",
            "11493376/11490434 [==============================] - 0s 0us/step\n",
            "11501568/11490434 [==============================] - 0s 0us/step\n"
          ]
        }
      ],
      "source": [
        "mnist = tf.keras.datasets.mnist\n",
        "\n",
        "(x_train, y_train), (x_test, y_test) = mnist.load_data()\n",
        "x_train, x_test = x_train / 255.0, x_test / 255.0\n",
        "\n",
        "x_train = x_train.reshape([x_train.shape[0], x_train.shape[1], x_train.shape[2], 1])\n",
        "x_test = x_test.reshape([x_test.shape[0], x_test.shape[1], x_test.shape[2], 1])"
      ]
    },
    {
      "cell_type": "code",
      "execution_count": 3,
      "metadata": {
        "ExecuteTime": {
          "end_time": "2020-02-03T20:49:51.620584Z",
          "start_time": "2020-02-03T20:49:51.338825Z"
        },
        "id": "kpJjO62e5tpn"
      },
      "outputs": [],
      "source": [
        "#If you can't load mnist data form above code, Download mnist.npz and excecute this cell\n",
        "\n",
        "# from modules.MnistData import MnistData\n",
        "# data = MnistData('./mnist.npz')\n",
        "\n",
        "# x_train, y_train = data.x_train, data.y_train\n",
        "# x_test, y_test = data.x_test, data.y_test\n",
        "\n",
        "# x_train = x_train.reshape([x_train.shape[0], x_train.shape[1], x_train.shape[2], 1])\n",
        "# x_test = x_test.reshape([x_test.shape[0], x_test.shape[1], x_test.shape[2], 1])"
      ]
    },
    {
      "cell_type": "code",
      "execution_count": 4,
      "metadata": {
        "ExecuteTime": {
          "end_time": "2020-02-03T20:51:56.827040Z",
          "start_time": "2020-02-03T20:51:55.533246Z"
        },
        "id": "ZzKYZ9EA5tpn"
      },
      "outputs": [],
      "source": [
        "from tensorflow.keras.optimizers import Adam\n",
        "from tensorflow.keras.layers import Activation, Dropout\n",
        "from tensorflow.keras.layers import Conv2D, BatchNormalization\n",
        "from tensorflow.keras.layers import Dense, Flatten, concatenate\n",
        "from tensorflow.keras.models import Model\n",
        "from tensorflow.keras.utils import plot_model\n",
        "from tensorflow.keras import Input\n",
        "from tensorflow.keras.layers import DepthwiseConv2D\n",
        "from tensorflow.keras.layers import AveragePooling2D, GlobalAveragePooling2D\n",
        "import tensorflow as tf"
      ]
    },
    {
      "cell_type": "code",
      "execution_count": 5,
      "metadata": {
        "ExecuteTime": {
          "end_time": "2020-02-03T20:52:07.644593Z",
          "start_time": "2020-02-03T20:52:07.638396Z"
        },
        "id": "3jRJWhgC5tpo"
      },
      "outputs": [],
      "source": [
        "def Build_conv2d(x, channel, stride):\n",
        "    return (Conv2D(channel, kernel_size=(3, 3), padding='same',\n",
        "                   kernel_initializer='he_uniform', use_bias=False,\n",
        "                   strides=stride, activation=None))(x)"
      ]
    },
    {
      "cell_type": "code",
      "execution_count": 6,
      "metadata": {
        "ExecuteTime": {
          "end_time": "2020-02-03T20:52:31.544826Z",
          "start_time": "2020-02-03T20:52:31.536422Z"
        },
        "id": "MxVmm-Vc5tpp"
      },
      "outputs": [],
      "source": [
        "def Build_Dense_block(name, x, growthRate):\n",
        "        shape = x.get_shape().as_list()\n",
        "        input_channel = shape[3]\n",
        "        with tf.compat.v1.variable_scope(name) as scope:\n",
        "            dense = BatchNormalization()(x)\n",
        "            dense = Activation('relu')\n",
        "            dense = Build_conv2d(x, growthRate, (1, 1))\n",
        "            return tf.concat([x, dense], 3)"
      ]
    },
    {
      "cell_type": "code",
      "execution_count": 7,
      "metadata": {
        "ExecuteTime": {
          "end_time": "2020-02-03T20:52:57.791260Z",
          "start_time": "2020-02-03T20:52:57.782053Z"
        },
        "id": "patQfYrV5tpq"
      },
      "outputs": [],
      "source": [
        "def Build_transition(name, x):\n",
        "    shape = x.get_shape().as_list()\n",
        "    input_channel = shape[3]\n",
        "    with tf.compat.v1.variable_scope(name) as scope:\n",
        "        x = BatchNormalization()(x)\n",
        "        x = Activation('relu')(x)\n",
        "        x = Conv2D(input_channel, kernel_size=(1, 1),\n",
        "                   activation=None, strides=(1, 1),\n",
        "                   use_bias=False)(x)\n",
        "        return AveragePooling2D([2, 2])(x)"
      ]
    },
    {
      "cell_type": "code",
      "execution_count": 8,
      "metadata": {
        "ExecuteTime": {
          "end_time": "2020-02-03T20:57:01.257740Z",
          "start_time": "2020-02-03T20:57:01.242728Z"
        },
        "id": "ULG2I5-K5tpr"
      },
      "outputs": [],
      "source": [
        "def Build_net(shape, dense_block_num, growthRate):\n",
        "\n",
        "    channel = 32\n",
        "    row, col = shape[0], shape[1]\n",
        "    input_layer = Input(shape=(row, col, 1), name='input')\n",
        "\n",
        "    x = Build_conv2d(input_layer, channel, (1, 1))\n",
        "\n",
        "    name_1, name_2, name_3 = 'dense_block_1', 'dense_block_2', 'dense_block_3'\n",
        "\n",
        "    \"\"\"\n",
        "    ====================================\n",
        "    =========Build First Block==========\n",
        "    ====================================\n",
        "    \"\"\"\n",
        "\n",
        "    with tf.name_scope(name_1) as scope:\n",
        "\n",
        "        for i in range(dense_block_num):\n",
        "            x = Build_Dense_block('dense_layer_{num}'.format(num=i), x, growthRate)\n",
        "\n",
        "        x = Build_transition('transtion_1', x)\n",
        "\n",
        "    \"\"\"\n",
        "    ====================================\n",
        "    =========Build Second Block=========\n",
        "    ====================================\n",
        "    \"\"\"\n",
        "\n",
        "    with tf.name_scope(name_2) as scope:\n",
        "\n",
        "        for i in range(dense_block_num):\n",
        "            x = Build_Dense_block('dense_layer_{num}'.format(num=i), x, growthRate)\n",
        "\n",
        "        x = Build_transition('transtion_2', x)\n",
        "\n",
        "    \"\"\"\n",
        "    ====================================\n",
        "    =========Build Third Block==========\n",
        "    ====================================\n",
        "    \"\"\"\n",
        "\n",
        "    with tf.name_scope(name_3) as scope:\n",
        "\n",
        "        for i in range(dense_block_num):\n",
        "            x = Build_Dense_block('dense_layer_{num}'.format(num=i), x, growthRate)\n",
        "\n",
        "        x = Build_transition('transtion_3', x)\n",
        "\n",
        "    x = BatchNormalization(name='bn_last')(x)\n",
        "    x = Activation('relu')(x)\n",
        "    x = GlobalAveragePooling2D()(x)\n",
        "    x = Dropout(0.2)(x)\n",
        "    out = Dense(10, activation='softmax')(x)\n",
        "    model = Model(input_layer, out)\n",
        "\n",
        "    return model"
      ]
    },
    {
      "cell_type": "code",
      "execution_count": 9,
      "metadata": {
        "ExecuteTime": {
          "end_time": "2020-02-03T20:57:02.211744Z",
          "start_time": "2020-02-03T20:57:01.746123Z"
        },
        "id": "Z5CiX1PZ5tpt"
      },
      "outputs": [],
      "source": [
        "model = Build_net([28, 28], 3, 32)"
      ]
    },
    {
      "cell_type": "code",
      "execution_count": 10,
      "metadata": {
        "ExecuteTime": {
          "end_time": "2020-02-03T20:57:04.521818Z",
          "start_time": "2020-02-03T20:57:04.505964Z"
        },
        "scrolled": true,
        "colab": {
          "base_uri": "https://localhost:8080/"
        },
        "id": "-huguCmA5tpu",
        "outputId": "7bfcc18e-c1fd-4931-c2fe-f6b3dd5777fc"
      },
      "outputs": [
        {
          "output_type": "stream",
          "name": "stdout",
          "text": [
            "Model: \"model\"\n",
            "__________________________________________________________________________________________________\n",
            " Layer (type)                   Output Shape         Param #     Connected to                     \n",
            "==================================================================================================\n",
            " input (InputLayer)             [(None, 28, 28, 1)]  0           []                               \n",
            "                                                                                                  \n",
            " conv2d (Conv2D)                (None, 28, 28, 32)   288         ['input[0][0]']                  \n",
            "                                                                                                  \n",
            " conv2d_1 (Conv2D)              (None, 28, 28, 32)   9216        ['conv2d[0][0]']                 \n",
            "                                                                                                  \n",
            " tf.concat (TFOpLambda)         (None, 28, 28, 64)   0           ['conv2d[0][0]',                 \n",
            "                                                                  'conv2d_1[0][0]']               \n",
            "                                                                                                  \n",
            " conv2d_2 (Conv2D)              (None, 28, 28, 32)   18432       ['tf.concat[0][0]']              \n",
            "                                                                                                  \n",
            " tf.concat_1 (TFOpLambda)       (None, 28, 28, 96)   0           ['tf.concat[0][0]',              \n",
            "                                                                  'conv2d_2[0][0]']               \n",
            "                                                                                                  \n",
            " conv2d_3 (Conv2D)              (None, 28, 28, 32)   27648       ['tf.concat_1[0][0]']            \n",
            "                                                                                                  \n",
            " tf.concat_2 (TFOpLambda)       (None, 28, 28, 128)  0           ['tf.concat_1[0][0]',            \n",
            "                                                                  'conv2d_3[0][0]']               \n",
            "                                                                                                  \n",
            " batch_normalization_3 (BatchNo  (None, 28, 28, 128)  512        ['tf.concat_2[0][0]']            \n",
            " rmalization)                                                                                     \n",
            "                                                                                                  \n",
            " activation_3 (Activation)      (None, 28, 28, 128)  0           ['batch_normalization_3[0][0]']  \n",
            "                                                                                                  \n",
            " conv2d_4 (Conv2D)              (None, 28, 28, 128)  16384       ['activation_3[0][0]']           \n",
            "                                                                                                  \n",
            " average_pooling2d (AveragePool  (None, 14, 14, 128)  0          ['conv2d_4[0][0]']               \n",
            " ing2D)                                                                                           \n",
            "                                                                                                  \n",
            " conv2d_5 (Conv2D)              (None, 14, 14, 32)   36864       ['average_pooling2d[0][0]']      \n",
            "                                                                                                  \n",
            " tf.concat_3 (TFOpLambda)       (None, 14, 14, 160)  0           ['average_pooling2d[0][0]',      \n",
            "                                                                  'conv2d_5[0][0]']               \n",
            "                                                                                                  \n",
            " conv2d_6 (Conv2D)              (None, 14, 14, 32)   46080       ['tf.concat_3[0][0]']            \n",
            "                                                                                                  \n",
            " tf.concat_4 (TFOpLambda)       (None, 14, 14, 192)  0           ['tf.concat_3[0][0]',            \n",
            "                                                                  'conv2d_6[0][0]']               \n",
            "                                                                                                  \n",
            " conv2d_7 (Conv2D)              (None, 14, 14, 32)   55296       ['tf.concat_4[0][0]']            \n",
            "                                                                                                  \n",
            " tf.concat_5 (TFOpLambda)       (None, 14, 14, 224)  0           ['tf.concat_4[0][0]',            \n",
            "                                                                  'conv2d_7[0][0]']               \n",
            "                                                                                                  \n",
            " batch_normalization_7 (BatchNo  (None, 14, 14, 224)  896        ['tf.concat_5[0][0]']            \n",
            " rmalization)                                                                                     \n",
            "                                                                                                  \n",
            " activation_7 (Activation)      (None, 14, 14, 224)  0           ['batch_normalization_7[0][0]']  \n",
            "                                                                                                  \n",
            " conv2d_8 (Conv2D)              (None, 14, 14, 224)  50176       ['activation_7[0][0]']           \n",
            "                                                                                                  \n",
            " average_pooling2d_1 (AveragePo  (None, 7, 7, 224)   0           ['conv2d_8[0][0]']               \n",
            " oling2D)                                                                                         \n",
            "                                                                                                  \n",
            " conv2d_9 (Conv2D)              (None, 7, 7, 32)     64512       ['average_pooling2d_1[0][0]']    \n",
            "                                                                                                  \n",
            " tf.concat_6 (TFOpLambda)       (None, 7, 7, 256)    0           ['average_pooling2d_1[0][0]',    \n",
            "                                                                  'conv2d_9[0][0]']               \n",
            "                                                                                                  \n",
            " conv2d_10 (Conv2D)             (None, 7, 7, 32)     73728       ['tf.concat_6[0][0]']            \n",
            "                                                                                                  \n",
            " tf.concat_7 (TFOpLambda)       (None, 7, 7, 288)    0           ['tf.concat_6[0][0]',            \n",
            "                                                                  'conv2d_10[0][0]']              \n",
            "                                                                                                  \n",
            " conv2d_11 (Conv2D)             (None, 7, 7, 32)     82944       ['tf.concat_7[0][0]']            \n",
            "                                                                                                  \n",
            " tf.concat_8 (TFOpLambda)       (None, 7, 7, 320)    0           ['tf.concat_7[0][0]',            \n",
            "                                                                  'conv2d_11[0][0]']              \n",
            "                                                                                                  \n",
            " batch_normalization_11 (BatchN  (None, 7, 7, 320)   1280        ['tf.concat_8[0][0]']            \n",
            " ormalization)                                                                                    \n",
            "                                                                                                  \n",
            " activation_11 (Activation)     (None, 7, 7, 320)    0           ['batch_normalization_11[0][0]'] \n",
            "                                                                                                  \n",
            " conv2d_12 (Conv2D)             (None, 7, 7, 320)    102400      ['activation_11[0][0]']          \n",
            "                                                                                                  \n",
            " average_pooling2d_2 (AveragePo  (None, 3, 3, 320)   0           ['conv2d_12[0][0]']              \n",
            " oling2D)                                                                                         \n",
            "                                                                                                  \n",
            " bn_last (BatchNormalization)   (None, 3, 3, 320)    1280        ['average_pooling2d_2[0][0]']    \n",
            "                                                                                                  \n",
            " activation_12 (Activation)     (None, 3, 3, 320)    0           ['bn_last[0][0]']                \n",
            "                                                                                                  \n",
            " global_average_pooling2d (Glob  (None, 320)         0           ['activation_12[0][0]']          \n",
            " alAveragePooling2D)                                                                              \n",
            "                                                                                                  \n",
            " dropout (Dropout)              (None, 320)          0           ['global_average_pooling2d[0][0]'\n",
            "                                                                 ]                                \n",
            "                                                                                                  \n",
            " dense (Dense)                  (None, 10)           3210        ['dropout[0][0]']                \n",
            "                                                                                                  \n",
            "==================================================================================================\n",
            "Total params: 591,146\n",
            "Trainable params: 589,162\n",
            "Non-trainable params: 1,984\n",
            "__________________________________________________________________________________________________\n"
          ]
        }
      ],
      "source": [
        "model.summary()"
      ]
    },
    {
      "cell_type": "code",
      "execution_count": 11,
      "metadata": {
        "ExecuteTime": {
          "end_time": "2020-02-03T20:23:14.196832Z",
          "start_time": "2020-02-03T20:23:14.160403Z"
        },
        "id": "8bOInjrl5tpw"
      },
      "outputs": [],
      "source": [
        "epoch = 10\n",
        "batch_size = 100\n",
        "\n",
        "model.compile(optimizer='adam',\n",
        "              loss='sparse_categorical_crossentropy',\n",
        "              metrics=['accuracy'])"
      ]
    },
    {
      "cell_type": "code",
      "execution_count": 12,
      "metadata": {
        "ExecuteTime": {
          "end_time": "2020-02-03T20:24:53.694472Z",
          "start_time": "2020-02-03T20:23:14.197943Z"
        },
        "scrolled": true,
        "colab": {
          "base_uri": "https://localhost:8080/"
        },
        "id": "qDd_RGRw5tpw",
        "outputId": "9c47629d-b9e5-492c-9f0c-724b94303029"
      },
      "outputs": [
        {
          "output_type": "stream",
          "name": "stdout",
          "text": [
            "Epoch 1/10\n",
            "540/540 [==============================] - 1410s 3s/step - loss: 0.1520 - accuracy: 0.9612 - val_loss: 0.0937 - val_accuracy: 0.9715\n",
            "Epoch 2/10\n",
            "540/540 [==============================] - 1410s 3s/step - loss: 0.0458 - accuracy: 0.9864 - val_loss: 0.2975 - val_accuracy: 0.9018\n",
            "Epoch 3/10\n",
            "540/540 [==============================] - 1422s 3s/step - loss: 0.0357 - accuracy: 0.9888 - val_loss: 0.0339 - val_accuracy: 0.9898\n",
            "Epoch 4/10\n",
            "540/540 [==============================] - 1411s 3s/step - loss: 0.0293 - accuracy: 0.9910 - val_loss: 0.0661 - val_accuracy: 0.9825\n",
            "Epoch 5/10\n",
            "540/540 [==============================] - 1420s 3s/step - loss: 0.0245 - accuracy: 0.9920 - val_loss: 0.0318 - val_accuracy: 0.9915\n",
            "Epoch 6/10\n",
            "540/540 [==============================] - 1420s 3s/step - loss: 0.0261 - accuracy: 0.9917 - val_loss: 0.1321 - val_accuracy: 0.9573\n",
            "Epoch 7/10\n",
            "540/540 [==============================] - 1427s 3s/step - loss: 0.0202 - accuracy: 0.9936 - val_loss: 0.0435 - val_accuracy: 0.9878\n",
            "Epoch 8/10\n",
            "540/540 [==============================] - 1415s 3s/step - loss: 0.0189 - accuracy: 0.9937 - val_loss: 0.0314 - val_accuracy: 0.9912\n",
            "Epoch 9/10\n",
            "540/540 [==============================] - 1418s 3s/step - loss: 0.0161 - accuracy: 0.9950 - val_loss: 0.0373 - val_accuracy: 0.9875\n",
            "Epoch 10/10\n",
            "540/540 [==============================] - 1418s 3s/step - loss: 0.0165 - accuracy: 0.9944 - val_loss: 0.0393 - val_accuracy: 0.9888\n"
          ]
        }
      ],
      "source": [
        "train_history = model.fit(x_train, y_train, epochs=epoch, batch_size=batch_size,  verbose=1,\n",
        "                          validation_split=0.1 )"
      ]
    },
    {
      "cell_type": "code",
      "execution_count": 13,
      "metadata": {
        "ExecuteTime": {
          "end_time": "2020-02-03T20:27:34.244377Z",
          "start_time": "2020-02-03T20:27:32.553371Z"
        },
        "colab": {
          "base_uri": "https://localhost:8080/"
        },
        "id": "4eA7pi155tpx",
        "outputId": "213464e7-4dec-4e26-aaa4-8eb52850214c"
      },
      "outputs": [
        {
          "output_type": "stream",
          "name": "stdout",
          "text": [
            "313/313 - 53s - loss: 0.0451 - accuracy: 0.9858 - 53s/epoch - 170ms/step\n"
          ]
        },
        {
          "output_type": "execute_result",
          "data": {
            "text/plain": [
              "[0.04512866958975792, 0.98580002784729]"
            ]
          },
          "metadata": {},
          "execution_count": 13
        }
      ],
      "source": [
        "model.evaluate(x_test,  y_test, verbose=2)"
      ]
    }
  ],
  "metadata": {
    "hide_input": false,
    "kernelspec": {
      "display_name": "Python 3",
      "language": "python",
      "name": "python3"
    },
    "language_info": {
      "codemirror_mode": {
        "name": "ipython",
        "version": 3
      },
      "file_extension": ".py",
      "mimetype": "text/x-python",
      "name": "python",
      "nbconvert_exporter": "python",
      "pygments_lexer": "ipython3",
      "version": "3.7.5"
    },
    "toc": {
      "base_numbering": 1,
      "nav_menu": {},
      "number_sections": true,
      "sideBar": true,
      "skip_h1_title": false,
      "title_cell": "Table of Contents",
      "title_sidebar": "Contents",
      "toc_cell": false,
      "toc_position": {},
      "toc_section_display": true,
      "toc_window_display": false
    },
    "varInspector": {
      "cols": {
        "lenName": 16,
        "lenType": 16,
        "lenVar": 40
      },
      "kernels_config": {
        "python": {
          "delete_cmd_postfix": "",
          "delete_cmd_prefix": "del ",
          "library": "var_list.py",
          "varRefreshCmd": "print(var_dic_list())"
        },
        "r": {
          "delete_cmd_postfix": ") ",
          "delete_cmd_prefix": "rm(",
          "library": "var_list.r",
          "varRefreshCmd": "cat(var_dic_list()) "
        }
      },
      "types_to_exclude": [
        "module",
        "function",
        "builtin_function_or_method",
        "instance",
        "_Feature"
      ],
      "window_display": false
    },
    "colab": {
      "name": "UAS_reproduce_densenet_with_tensorflow_and_mnist_dataset.ipynb",
      "provenance": [],
      "collapsed_sections": []
    }
  },
  "nbformat": 4,
  "nbformat_minor": 0
}