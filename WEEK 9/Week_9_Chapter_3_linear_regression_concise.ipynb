{
  "cells": [
    {
      "cell_type": "markdown",
      "metadata": {
        "id": "view-in-github",
        "colab_type": "text"
      },
      "source": [
        "<a href=\"https://colab.research.google.com/github/RaihanAzharRafi/Machine-Learning/blob/main/WEEK%209/Week_9_Chapter_3_linear_regression_concise.ipynb\" target=\"_parent\"><img src=\"https://colab.research.google.com/assets/colab-badge.svg\" alt=\"Open In Colab\"/></a>"
      ]
    },
    {
      "cell_type": "markdown",
      "source": [
        "# **Concise Implementation of Linear Regression**\n",
        "### **Nama : Raihan Azhar Rafi**\n",
        "### **Kelas : TK-42-02**\n",
        "### **Nim : 1103180166**\n",
        "\n",
        "Sumber Saya Peroleh Dari : http://www.d2l.ai/chapter_linear-networks/linear-regression-concise.html"
      ],
      "metadata": {
        "id": "X4A0L1L-mUSM"
      }
    },
    {
      "cell_type": "code",
      "execution_count": 1,
      "metadata": {
        "id": "vrT5E0OPldNg",
        "colab": {
          "base_uri": "https://localhost:8080/"
        },
        "outputId": "b515bd41-daf5-48ed-e0f2-3ce68f2329f6"
      },
      "outputs": [
        {
          "output_type": "stream",
          "name": "stdout",
          "text": [
            "Looking in indexes: https://pypi.org/simple, https://us-python.pkg.dev/colab-wheels/public/simple/\n",
            "Requirement already satisfied: d2l==0.17.5 in /usr/local/lib/python3.7/dist-packages (0.17.5)\n",
            "Requirement already satisfied: requests==2.25.1 in /usr/local/lib/python3.7/dist-packages (from d2l==0.17.5) (2.25.1)\n",
            "Requirement already satisfied: jupyter==1.0.0 in /usr/local/lib/python3.7/dist-packages (from d2l==0.17.5) (1.0.0)\n",
            "Requirement already satisfied: matplotlib==3.5.1 in /usr/local/lib/python3.7/dist-packages (from d2l==0.17.5) (3.5.1)\n",
            "Requirement already satisfied: pandas==1.2.4 in /usr/local/lib/python3.7/dist-packages (from d2l==0.17.5) (1.2.4)\n",
            "Requirement already satisfied: numpy==1.21.5 in /usr/local/lib/python3.7/dist-packages (from d2l==0.17.5) (1.21.5)\n",
            "Requirement already satisfied: ipywidgets in /usr/local/lib/python3.7/dist-packages (from jupyter==1.0.0->d2l==0.17.5) (7.7.0)\n",
            "Requirement already satisfied: nbconvert in /usr/local/lib/python3.7/dist-packages (from jupyter==1.0.0->d2l==0.17.5) (5.6.1)\n",
            "Requirement already satisfied: qtconsole in /usr/local/lib/python3.7/dist-packages (from jupyter==1.0.0->d2l==0.17.5) (5.3.1)\n",
            "Requirement already satisfied: notebook in /usr/local/lib/python3.7/dist-packages (from jupyter==1.0.0->d2l==0.17.5) (5.3.1)\n",
            "Requirement already satisfied: ipykernel in /usr/local/lib/python3.7/dist-packages (from jupyter==1.0.0->d2l==0.17.5) (4.10.1)\n",
            "Requirement already satisfied: jupyter-console in /usr/local/lib/python3.7/dist-packages (from jupyter==1.0.0->d2l==0.17.5) (5.2.0)\n",
            "Requirement already satisfied: pyparsing>=2.2.1 in /usr/local/lib/python3.7/dist-packages (from matplotlib==3.5.1->d2l==0.17.5) (3.0.9)\n",
            "Requirement already satisfied: kiwisolver>=1.0.1 in /usr/local/lib/python3.7/dist-packages (from matplotlib==3.5.1->d2l==0.17.5) (1.4.3)\n",
            "Requirement already satisfied: cycler>=0.10 in /usr/local/lib/python3.7/dist-packages (from matplotlib==3.5.1->d2l==0.17.5) (0.11.0)\n",
            "Requirement already satisfied: python-dateutil>=2.7 in /usr/local/lib/python3.7/dist-packages (from matplotlib==3.5.1->d2l==0.17.5) (2.8.2)\n",
            "Requirement already satisfied: packaging>=20.0 in /usr/local/lib/python3.7/dist-packages (from matplotlib==3.5.1->d2l==0.17.5) (21.3)\n",
            "Requirement already satisfied: pillow>=6.2.0 in /usr/local/lib/python3.7/dist-packages (from matplotlib==3.5.1->d2l==0.17.5) (7.1.2)\n",
            "Requirement already satisfied: fonttools>=4.22.0 in /usr/local/lib/python3.7/dist-packages (from matplotlib==3.5.1->d2l==0.17.5) (4.33.3)\n",
            "Requirement already satisfied: pytz>=2017.3 in /usr/local/lib/python3.7/dist-packages (from pandas==1.2.4->d2l==0.17.5) (2022.1)\n",
            "Requirement already satisfied: chardet<5,>=3.0.2 in /usr/local/lib/python3.7/dist-packages (from requests==2.25.1->d2l==0.17.5) (3.0.4)\n",
            "Requirement already satisfied: idna<3,>=2.5 in /usr/local/lib/python3.7/dist-packages (from requests==2.25.1->d2l==0.17.5) (2.10)\n",
            "Requirement already satisfied: urllib3<1.27,>=1.21.1 in /usr/local/lib/python3.7/dist-packages (from requests==2.25.1->d2l==0.17.5) (1.24.3)\n",
            "Requirement already satisfied: certifi>=2017.4.17 in /usr/local/lib/python3.7/dist-packages (from requests==2.25.1->d2l==0.17.5) (2022.6.15)\n",
            "Requirement already satisfied: typing-extensions in /usr/local/lib/python3.7/dist-packages (from kiwisolver>=1.0.1->matplotlib==3.5.1->d2l==0.17.5) (4.1.1)\n",
            "Requirement already satisfied: six>=1.5 in /usr/local/lib/python3.7/dist-packages (from python-dateutil>=2.7->matplotlib==3.5.1->d2l==0.17.5) (1.15.0)\n",
            "Requirement already satisfied: jupyter-client in /usr/local/lib/python3.7/dist-packages (from ipykernel->jupyter==1.0.0->d2l==0.17.5) (5.3.5)\n",
            "Requirement already satisfied: traitlets>=4.1.0 in /usr/local/lib/python3.7/dist-packages (from ipykernel->jupyter==1.0.0->d2l==0.17.5) (5.1.1)\n",
            "Requirement already satisfied: ipython>=4.0.0 in /usr/local/lib/python3.7/dist-packages (from ipykernel->jupyter==1.0.0->d2l==0.17.5) (5.5.0)\n",
            "Requirement already satisfied: tornado>=4.0 in /usr/local/lib/python3.7/dist-packages (from ipykernel->jupyter==1.0.0->d2l==0.17.5) (5.1.1)\n",
            "Requirement already satisfied: pexpect in /usr/local/lib/python3.7/dist-packages (from ipython>=4.0.0->ipykernel->jupyter==1.0.0->d2l==0.17.5) (4.8.0)\n",
            "Requirement already satisfied: setuptools>=18.5 in /usr/local/lib/python3.7/dist-packages (from ipython>=4.0.0->ipykernel->jupyter==1.0.0->d2l==0.17.5) (57.4.0)\n",
            "Requirement already satisfied: pickleshare in /usr/local/lib/python3.7/dist-packages (from ipython>=4.0.0->ipykernel->jupyter==1.0.0->d2l==0.17.5) (0.7.5)\n",
            "Requirement already satisfied: decorator in /usr/local/lib/python3.7/dist-packages (from ipython>=4.0.0->ipykernel->jupyter==1.0.0->d2l==0.17.5) (4.4.2)\n",
            "Requirement already satisfied: prompt-toolkit<2.0.0,>=1.0.4 in /usr/local/lib/python3.7/dist-packages (from ipython>=4.0.0->ipykernel->jupyter==1.0.0->d2l==0.17.5) (1.0.18)\n",
            "Requirement already satisfied: pygments in /usr/local/lib/python3.7/dist-packages (from ipython>=4.0.0->ipykernel->jupyter==1.0.0->d2l==0.17.5) (2.6.1)\n",
            "Requirement already satisfied: simplegeneric>0.8 in /usr/local/lib/python3.7/dist-packages (from ipython>=4.0.0->ipykernel->jupyter==1.0.0->d2l==0.17.5) (0.8.1)\n",
            "Requirement already satisfied: wcwidth in /usr/local/lib/python3.7/dist-packages (from prompt-toolkit<2.0.0,>=1.0.4->ipython>=4.0.0->ipykernel->jupyter==1.0.0->d2l==0.17.5) (0.2.5)\n",
            "Requirement already satisfied: widgetsnbextension~=3.6.0 in /usr/local/lib/python3.7/dist-packages (from ipywidgets->jupyter==1.0.0->d2l==0.17.5) (3.6.0)\n",
            "Requirement already satisfied: jupyterlab-widgets>=1.0.0 in /usr/local/lib/python3.7/dist-packages (from ipywidgets->jupyter==1.0.0->d2l==0.17.5) (1.1.0)\n",
            "Requirement already satisfied: nbformat>=4.2.0 in /usr/local/lib/python3.7/dist-packages (from ipywidgets->jupyter==1.0.0->d2l==0.17.5) (5.4.0)\n",
            "Requirement already satisfied: ipython-genutils~=0.2.0 in /usr/local/lib/python3.7/dist-packages (from ipywidgets->jupyter==1.0.0->d2l==0.17.5) (0.2.0)\n",
            "Requirement already satisfied: jsonschema>=2.6 in /usr/local/lib/python3.7/dist-packages (from nbformat>=4.2.0->ipywidgets->jupyter==1.0.0->d2l==0.17.5) (4.3.3)\n",
            "Requirement already satisfied: jupyter-core in /usr/local/lib/python3.7/dist-packages (from nbformat>=4.2.0->ipywidgets->jupyter==1.0.0->d2l==0.17.5) (4.10.0)\n",
            "Requirement already satisfied: fastjsonschema in /usr/local/lib/python3.7/dist-packages (from nbformat>=4.2.0->ipywidgets->jupyter==1.0.0->d2l==0.17.5) (2.15.3)\n",
            "Requirement already satisfied: pyrsistent!=0.17.0,!=0.17.1,!=0.17.2,>=0.14.0 in /usr/local/lib/python3.7/dist-packages (from jsonschema>=2.6->nbformat>=4.2.0->ipywidgets->jupyter==1.0.0->d2l==0.17.5) (0.18.1)\n",
            "Requirement already satisfied: attrs>=17.4.0 in /usr/local/lib/python3.7/dist-packages (from jsonschema>=2.6->nbformat>=4.2.0->ipywidgets->jupyter==1.0.0->d2l==0.17.5) (21.4.0)\n",
            "Requirement already satisfied: importlib-metadata in /usr/local/lib/python3.7/dist-packages (from jsonschema>=2.6->nbformat>=4.2.0->ipywidgets->jupyter==1.0.0->d2l==0.17.5) (4.11.4)\n",
            "Requirement already satisfied: importlib-resources>=1.4.0 in /usr/local/lib/python3.7/dist-packages (from jsonschema>=2.6->nbformat>=4.2.0->ipywidgets->jupyter==1.0.0->d2l==0.17.5) (5.7.1)\n",
            "Requirement already satisfied: zipp>=3.1.0 in /usr/local/lib/python3.7/dist-packages (from importlib-resources>=1.4.0->jsonschema>=2.6->nbformat>=4.2.0->ipywidgets->jupyter==1.0.0->d2l==0.17.5) (3.8.0)\n",
            "Requirement already satisfied: terminado>=0.8.1 in /usr/local/lib/python3.7/dist-packages (from notebook->jupyter==1.0.0->d2l==0.17.5) (0.13.3)\n",
            "Requirement already satisfied: jinja2 in /usr/local/lib/python3.7/dist-packages (from notebook->jupyter==1.0.0->d2l==0.17.5) (2.11.3)\n",
            "Requirement already satisfied: Send2Trash in /usr/local/lib/python3.7/dist-packages (from notebook->jupyter==1.0.0->d2l==0.17.5) (1.8.0)\n",
            "Requirement already satisfied: pyzmq>=13 in /usr/local/lib/python3.7/dist-packages (from jupyter-client->ipykernel->jupyter==1.0.0->d2l==0.17.5) (23.1.0)\n",
            "Requirement already satisfied: ptyprocess in /usr/local/lib/python3.7/dist-packages (from terminado>=0.8.1->notebook->jupyter==1.0.0->d2l==0.17.5) (0.7.0)\n",
            "Requirement already satisfied: MarkupSafe>=0.23 in /usr/local/lib/python3.7/dist-packages (from jinja2->notebook->jupyter==1.0.0->d2l==0.17.5) (2.0.1)\n",
            "Requirement already satisfied: entrypoints>=0.2.2 in /usr/local/lib/python3.7/dist-packages (from nbconvert->jupyter==1.0.0->d2l==0.17.5) (0.4)\n",
            "Requirement already satisfied: testpath in /usr/local/lib/python3.7/dist-packages (from nbconvert->jupyter==1.0.0->d2l==0.17.5) (0.6.0)\n",
            "Requirement already satisfied: pandocfilters>=1.4.1 in /usr/local/lib/python3.7/dist-packages (from nbconvert->jupyter==1.0.0->d2l==0.17.5) (1.5.0)\n",
            "Requirement already satisfied: defusedxml in /usr/local/lib/python3.7/dist-packages (from nbconvert->jupyter==1.0.0->d2l==0.17.5) (0.7.1)\n",
            "Requirement already satisfied: bleach in /usr/local/lib/python3.7/dist-packages (from nbconvert->jupyter==1.0.0->d2l==0.17.5) (5.0.0)\n",
            "Requirement already satisfied: mistune<2,>=0.8.1 in /usr/local/lib/python3.7/dist-packages (from nbconvert->jupyter==1.0.0->d2l==0.17.5) (0.8.4)\n",
            "Requirement already satisfied: webencodings in /usr/local/lib/python3.7/dist-packages (from bleach->nbconvert->jupyter==1.0.0->d2l==0.17.5) (0.5.1)\n",
            "Requirement already satisfied: qtpy>=2.0.1 in /usr/local/lib/python3.7/dist-packages (from qtconsole->jupyter==1.0.0->d2l==0.17.5) (2.1.0)\n"
          ]
        }
      ],
      "source": [
        "!pip install d2l==0.17.5\n"
      ]
    },
    {
      "cell_type": "markdown",
      "metadata": {
        "origin_pos": 0,
        "id": "VjGPAo-8ldNj"
      },
      "source": [
        "# Concise Implementation of Linear Regression\n",
        ":label:`sec_linear_concise`\n",
        "\n",
        "Broad and intense interest in deep learning for the past several years\n",
        "has inspired companies, academics, and hobbyists\n",
        "to develop a variety of mature open source frameworks\n",
        "for automating the repetitive work of implementing\n",
        "gradient-based learning algorithms.\n",
        "In :numref:`sec_linear_scratch`, we relied only on\n",
        "(i) tensors for data storage and linear algebra;\n",
        "and (ii) auto differentiation for calculating gradients.\n",
        "In practice, because data iterators, loss functions, optimizers,\n",
        "and neural network layers\n",
        "are so common, modern libraries implement these components for us as well.\n",
        "\n",
        "In this section, (**we will show you how to implement\n",
        "the linear regression model**) from :numref:`sec_linear_scratch`\n",
        "(**concisely by using high-level APIs**) of deep learning frameworks.\n",
        "\n",
        "\n",
        "## Generating the Dataset\n",
        "\n",
        "To start, we will generate the same dataset as in :numref:`sec_linear_scratch`.\n"
      ]
    },
    {
      "cell_type": "code",
      "execution_count": 2,
      "metadata": {
        "origin_pos": 3,
        "tab": [
          "tensorflow"
        ],
        "id": "vZnmQAIaldNm"
      },
      "outputs": [],
      "source": [
        "import numpy as np\n",
        "import tensorflow as tf\n",
        "from d2l import tensorflow as d2l"
      ]
    },
    {
      "cell_type": "code",
      "execution_count": 3,
      "metadata": {
        "origin_pos": 4,
        "tab": [
          "tensorflow"
        ],
        "id": "aCm19kwwldNn"
      },
      "outputs": [],
      "source": [
        "true_w = tf.constant([2, -3.4])\n",
        "true_b = 4.2\n",
        "features, labels = d2l.synthetic_data(true_w, true_b, 1000)"
      ]
    },
    {
      "cell_type": "markdown",
      "metadata": {
        "origin_pos": 5,
        "id": "cJmryTwwldNn"
      },
      "source": [
        "## Reading the Dataset\n",
        "\n",
        "Rather than rolling our own iterator,\n",
        "we can [**call upon the existing API in a framework to read data.**]\n",
        "We pass in `features` and `labels` as arguments and specify `batch_size`\n",
        "when instantiating a data iterator object.\n",
        "Besides, the boolean value `is_train`\n",
        "indicates whether or not\n",
        "we want the data iterator object to shuffle the data\n",
        "on each epoch (pass through the dataset).\n"
      ]
    },
    {
      "cell_type": "code",
      "execution_count": 4,
      "metadata": {
        "origin_pos": 8,
        "tab": [
          "tensorflow"
        ],
        "id": "36k6zsh0ldNo"
      },
      "outputs": [],
      "source": [
        "def load_array(data_arrays, batch_size, is_train=True):  #@save\n",
        "    \"\"\"Construct a TensorFlow data iterator.\"\"\"\n",
        "    dataset = tf.data.Dataset.from_tensor_slices(data_arrays)\n",
        "    if is_train:\n",
        "        dataset = dataset.shuffle(buffer_size=1000)\n",
        "    dataset = dataset.batch(batch_size)\n",
        "    return dataset"
      ]
    },
    {
      "cell_type": "code",
      "execution_count": 5,
      "metadata": {
        "origin_pos": 9,
        "tab": [
          "tensorflow"
        ],
        "id": "b8BvH2-tldNq"
      },
      "outputs": [],
      "source": [
        "batch_size = 10\n",
        "data_iter = load_array((features, labels), batch_size)"
      ]
    },
    {
      "cell_type": "markdown",
      "metadata": {
        "origin_pos": 10,
        "id": "CRQueqkvldNr"
      },
      "source": [
        "Now we can use `data_iter` in much the same way as we called\n",
        "the `data_iter` function in :numref:`sec_linear_scratch`.\n",
        "To verify that it is working, we can read and print\n",
        "the first minibatch of examples.\n",
        "Comparing with :numref:`sec_linear_scratch`,\n",
        "here we use `iter` to construct a Python iterator and use `next` to obtain the first item from the iterator.\n"
      ]
    },
    {
      "cell_type": "code",
      "execution_count": 6,
      "metadata": {
        "origin_pos": 11,
        "tab": [
          "tensorflow"
        ],
        "id": "sHtEIwZ-ldNr",
        "outputId": "fdf1556b-df63-4a31-de3b-891833443496",
        "colab": {
          "base_uri": "https://localhost:8080/"
        }
      },
      "outputs": [
        {
          "output_type": "execute_result",
          "data": {
            "text/plain": [
              "(<tf.Tensor: shape=(10, 2), dtype=float32, numpy=\n",
              " array([[ 1.4192282 , -0.29561377],\n",
              "        [ 0.44992346, -0.44319096],\n",
              "        [ 0.15971963,  0.57015055],\n",
              "        [ 0.11752263,  0.3519794 ],\n",
              "        [-0.6139838 , -2.1063378 ],\n",
              "        [ 0.09549838,  1.2722961 ],\n",
              "        [ 2.066644  ,  0.7097674 ],\n",
              "        [ 0.71337277, -0.84871334],\n",
              "        [ 1.988445  ,  0.56760746],\n",
              "        [ 0.8994151 ,  0.92188287]], dtype=float32)>,\n",
              " <tf.Tensor: shape=(10, 1), dtype=float32, numpy=\n",
              " array([[ 8.0523815 ],\n",
              "        [ 6.6103287 ],\n",
              "        [ 2.5922909 ],\n",
              "        [ 3.2575066 ],\n",
              "        [10.130418  ],\n",
              "        [ 0.08213085],\n",
              "        [ 5.9259114 ],\n",
              "        [ 8.505904  ],\n",
              "        [ 6.2616706 ],\n",
              "        [ 2.8634362 ]], dtype=float32)>)"
            ]
          },
          "metadata": {},
          "execution_count": 6
        }
      ],
      "source": [
        "next(iter(data_iter))"
      ]
    },
    {
      "cell_type": "markdown",
      "metadata": {
        "origin_pos": 12,
        "id": "cbKdjZRoldNt"
      },
      "source": [
        "## Defining the Model\n",
        "\n",
        "When we implemented linear regression from scratch\n",
        "in :numref:`sec_linear_scratch`,\n",
        "we defined our model parameters explicitly\n",
        "and coded up the calculations to produce output\n",
        "using basic linear algebra operations.\n",
        "You *should* know how to do this.\n",
        "But once your models get more complex,\n",
        "and once you have to do this nearly every day,\n",
        "you will be glad for the assistance.\n",
        "The situation is similar to coding up your own blog from scratch.\n",
        "Doing it once or twice is rewarding and instructive,\n",
        "but you would be a lousy web developer\n",
        "if every time you needed a blog you spent a month\n",
        "reinventing the wheel.\n",
        "\n",
        "For standard operations, we can [**use a framework's predefined layers,**]\n",
        "which allow us to focus especially\n",
        "on the layers used to construct the model\n",
        "rather than having to focus on the implementation.\n",
        "We will first define a model variable `net`,\n",
        "which will refer to an instance of the `Sequential` class.\n",
        "The `Sequential` class defines a container\n",
        "for several layers that will be chained together.\n",
        "Given input data, a `Sequential` instance passes it through\n",
        "the first layer, in turn passing the output\n",
        "as the second layer's input and so forth.\n",
        "In the following example, our model consists of only one layer,\n",
        "so we do not really need `Sequential`.\n",
        "But since nearly all of our future models\n",
        "will involve multiple layers,\n",
        "we will use it anyway just to familiarize you\n",
        "with the most standard workflow.\n",
        "\n",
        "Recall the architecture of a single-layer network as shown in :numref:`fig_single_neuron`.\n",
        "The layer is said to be *fully-connected*\n",
        "because each of its inputs is connected to each of its outputs\n",
        "by means of a matrix-vector multiplication.\n"
      ]
    },
    {
      "cell_type": "markdown",
      "metadata": {
        "origin_pos": 15,
        "tab": [
          "tensorflow"
        ],
        "id": "P3lS1QvZldNu"
      },
      "source": [
        "In Keras, the fully-connected layer is defined in the `Dense` class. Since we only want to generate a single scalar output, we set that number to 1.\n",
        "\n",
        "It is worth noting that, for convenience,\n",
        "Keras does not require us to specify\n",
        "the input shape for each layer.\n",
        "So here, we do not need to tell Keras\n",
        "how many inputs go into this linear layer.\n",
        "When we first try to pass data through our model,\n",
        "e.g., when we execute `net(X)` later,\n",
        "Keras will automatically infer the number of inputs to each layer.\n",
        "We will describe how this works in more detail later.\n"
      ]
    },
    {
      "cell_type": "code",
      "execution_count": 7,
      "metadata": {
        "origin_pos": 18,
        "tab": [
          "tensorflow"
        ],
        "id": "kMt_xcl5ldNv"
      },
      "outputs": [],
      "source": [
        "# `keras` is the high-level API for TensorFlow\n",
        "net = tf.keras.Sequential()\n",
        "net.add(tf.keras.layers.Dense(1))"
      ]
    },
    {
      "cell_type": "markdown",
      "metadata": {
        "origin_pos": 19,
        "id": "qVCdeUWxldNw"
      },
      "source": [
        "## Initializing Model Parameters\n",
        "\n",
        "Before using `net`, we need to (**initialize the model parameters,**)\n",
        "such as the weights and bias in the linear regression model.\n",
        "Deep learning frameworks often have a predefined way to initialize the parameters.\n",
        "Here we specify that each weight parameter\n",
        "should be randomly sampled from a normal distribution\n",
        "with mean 0 and standard deviation 0.01.\n",
        "The bias parameter will be initialized to zero.\n"
      ]
    },
    {
      "cell_type": "markdown",
      "metadata": {
        "origin_pos": 22,
        "tab": [
          "tensorflow"
        ],
        "id": "GJs0rKqXldNx"
      },
      "source": [
        "The `initializers` module in TensorFlow provides various methods for model parameter initialization. The easiest way to specify the initialization method in Keras is when creating the layer by specifying `kernel_initializer`. Here we recreate `net` again.\n"
      ]
    },
    {
      "cell_type": "code",
      "execution_count": 8,
      "metadata": {
        "origin_pos": 25,
        "tab": [
          "tensorflow"
        ],
        "id": "o3E3DjPbldNx"
      },
      "outputs": [],
      "source": [
        "initializer = tf.initializers.RandomNormal(stddev=0.01)\n",
        "net = tf.keras.Sequential()\n",
        "net.add(tf.keras.layers.Dense(1, kernel_initializer=initializer))"
      ]
    },
    {
      "cell_type": "markdown",
      "metadata": {
        "origin_pos": 28,
        "tab": [
          "tensorflow"
        ],
        "id": "OTXCN_FIldNy"
      },
      "source": [
        "The code above may look straightforward but you should note\n",
        "that something strange is happening here.\n",
        "We are initializing parameters for a network\n",
        "even though Keras does not yet know\n",
        "how many dimensions the input will have!\n",
        "It might be 2 as in our example or it might be 2000.\n",
        "Keras lets us get away with this because behind the scenes,\n",
        "the initialization is actually *deferred*.\n",
        "The real initialization will take place only\n",
        "when we for the first time attempt to pass data through the network.\n",
        "Just be careful to remember that since the parameters\n",
        "have not been initialized yet,\n",
        "we cannot access or manipulate them.\n"
      ]
    },
    {
      "cell_type": "markdown",
      "metadata": {
        "origin_pos": 29,
        "id": "uV3zsrl2ldNz"
      },
      "source": [
        "## Defining the Loss Function\n"
      ]
    },
    {
      "cell_type": "markdown",
      "metadata": {
        "origin_pos": 32,
        "tab": [
          "tensorflow"
        ],
        "id": "PloREhWEldNz"
      },
      "source": [
        "The `MeanSquaredError` class computes the mean squared error (without the $1/2$ factor in :eqref:`eq_mse`).\n",
        "By default it returns the average loss over examples.\n"
      ]
    },
    {
      "cell_type": "code",
      "execution_count": 9,
      "metadata": {
        "origin_pos": 35,
        "tab": [
          "tensorflow"
        ],
        "id": "yiuOu8o2ldNz"
      },
      "outputs": [],
      "source": [
        "loss = tf.keras.losses.MeanSquaredError()"
      ]
    },
    {
      "cell_type": "markdown",
      "metadata": {
        "origin_pos": 36,
        "id": "fyWUXuU2ldN0"
      },
      "source": [
        "## Defining the Optimization Algorithm\n"
      ]
    },
    {
      "cell_type": "markdown",
      "metadata": {
        "origin_pos": 39,
        "tab": [
          "tensorflow"
        ],
        "id": "cL3PL47jldN0"
      },
      "source": [
        "Minibatch stochastic gradient descent is a standard tool\n",
        "for optimizing neural networks\n",
        "and thus Keras supports it alongside a number of\n",
        "variations on this algorithm in the `optimizers` module.\n",
        "Minibatch stochastic gradient descent just requires that\n",
        "we set the value `learning_rate`, which is set to 0.03 here.\n"
      ]
    },
    {
      "cell_type": "code",
      "execution_count": 10,
      "metadata": {
        "origin_pos": 42,
        "tab": [
          "tensorflow"
        ],
        "id": "LzMLgK7HldN1"
      },
      "outputs": [],
      "source": [
        "trainer = tf.keras.optimizers.SGD(learning_rate=0.03)"
      ]
    },
    {
      "cell_type": "markdown",
      "metadata": {
        "origin_pos": 43,
        "id": "ahUAJE2SldN3"
      },
      "source": [
        "## Training\n",
        "\n",
        "You might have noticed that expressing our model through\n",
        "high-level APIs of a deep learning framework\n",
        "requires comparatively few lines of code.\n",
        "We did not have to individually allocate parameters,\n",
        "define our loss function, or implement minibatch stochastic gradient descent.\n",
        "Once we start working with much more complex models,\n",
        "advantages of high-level APIs will grow considerably.\n",
        "However, once we have all the basic pieces in place,\n",
        "[**the training loop itself is strikingly similar\n",
        "to what we did when implementing everything from scratch.**]\n",
        "\n",
        "To refresh your memory: for some number of epochs,\n",
        "we will make a complete pass over the dataset (`train_data`),\n",
        "iteratively grabbing one minibatch of inputs\n",
        "and the corresponding ground-truth labels.\n",
        "For each minibatch, we go through the following ritual:\n",
        "\n",
        "* Generate predictions by calling `net(X)` and calculate the loss `l` (the forward propagation).\n",
        "* Calculate gradients by running the backpropagation.\n",
        "* Update the model parameters by invoking our optimizer.\n",
        "\n",
        "For good measure, we compute the loss after each epoch and print it to monitor progress.\n"
      ]
    },
    {
      "cell_type": "code",
      "execution_count": 11,
      "metadata": {
        "origin_pos": 46,
        "tab": [
          "tensorflow"
        ],
        "id": "2GrS8aUWldN4",
        "outputId": "41046463-72d5-413c-ec4e-2651b3384b18",
        "colab": {
          "base_uri": "https://localhost:8080/"
        }
      },
      "outputs": [
        {
          "output_type": "stream",
          "name": "stdout",
          "text": [
            "epoch 1, loss 0.000225\n",
            "epoch 2, loss 0.000104\n",
            "epoch 3, loss 0.000105\n"
          ]
        }
      ],
      "source": [
        "num_epochs = 3\n",
        "for epoch in range(num_epochs):\n",
        "    for X, y in data_iter:\n",
        "        with tf.GradientTape() as tape:\n",
        "            l = loss(net(X, training=True), y)\n",
        "        grads = tape.gradient(l, net.trainable_variables)\n",
        "        trainer.apply_gradients(zip(grads, net.trainable_variables))\n",
        "    l = loss(net(features), labels)\n",
        "    print(f'epoch {epoch + 1}, loss {l:f}')"
      ]
    },
    {
      "cell_type": "markdown",
      "metadata": {
        "origin_pos": 47,
        "id": "lSbLcM47ldN4"
      },
      "source": [
        "Below, we [**compare the model parameters learned by training on finite data\n",
        "and the actual parameters**] that generated our dataset.\n",
        "To access parameters,\n",
        "we first access the layer that we need from `net`\n",
        "and then access that layer's weights and bias.\n",
        "As in our from-scratch implementation,\n",
        "note that our estimated parameters are\n",
        "close to their ground-truth counterparts.\n"
      ]
    },
    {
      "cell_type": "code",
      "execution_count": 12,
      "metadata": {
        "origin_pos": 50,
        "tab": [
          "tensorflow"
        ],
        "id": "DQK0HC0yldN4",
        "outputId": "93672f20-0a4c-4d26-fc69-e930f07ae185",
        "colab": {
          "base_uri": "https://localhost:8080/"
        }
      },
      "outputs": [
        {
          "output_type": "stream",
          "name": "stdout",
          "text": [
            "error in estimating w tf.Tensor([0.00018764 0.00052238], shape=(2,), dtype=float32)\n",
            "error in estimating b [0.00082159]\n"
          ]
        }
      ],
      "source": [
        "w = net.get_weights()[0]\n",
        "print('error in estimating w', true_w - tf.reshape(w, true_w.shape))\n",
        "b = net.get_weights()[1]\n",
        "print('error in estimating b', true_b - b)"
      ]
    }
  ],
  "metadata": {
    "kernelspec": {
      "display_name": "Python 3",
      "name": "python3"
    },
    "language_info": {
      "name": "python"
    },
    "colab": {
      "name": "Week_9_Chapter_3_linear_regression_concise.ipynb",
      "provenance": [],
      "collapsed_sections": [],
      "include_colab_link": true
    }
  },
  "nbformat": 4,
  "nbformat_minor": 0
}