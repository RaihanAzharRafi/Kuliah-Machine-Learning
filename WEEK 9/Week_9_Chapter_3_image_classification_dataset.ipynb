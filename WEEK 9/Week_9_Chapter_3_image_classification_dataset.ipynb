{
  "cells": [
    {
      "cell_type": "markdown",
      "metadata": {
        "id": "view-in-github",
        "colab_type": "text"
      },
      "source": [
        "<a href=\"https://colab.research.google.com/github/RaihanAzharRafi/Machine-Learning/blob/main/WEEK%209/Week_9_Chapter_3_image_classification_dataset.ipynb\" target=\"_parent\"><img src=\"https://colab.research.google.com/assets/colab-badge.svg\" alt=\"Open In Colab\"/></a>"
      ]
    },
    {
      "cell_type": "markdown",
      "source": [
        "# **The Image Classification Dataset**\n",
        "### **Nama : Raihan Azhar Rafi**\n",
        "### **Kelas : TK-42-02**\n",
        "### **Nim : 1103180166**\n",
        "\n",
        "Sumber Saya Peroleh Dari : http://www.d2l.ai/chapter_linear-networks/image-classification-dataset.html"
      ],
      "metadata": {
        "id": "XhJ0K4fJ_oqS"
      }
    },
    {
      "cell_type": "code",
      "execution_count": null,
      "metadata": {
        "id": "T9Uk7o_Rtb1r"
      },
      "outputs": [],
      "source": [
        "!pip install d2l==0.17.5\n"
      ]
    },
    {
      "cell_type": "markdown",
      "metadata": {
        "origin_pos": 0,
        "id": "DT6HS58Ktb1t"
      },
      "source": [
        "# The Image Classification Dataset\n",
        ":label:`sec_fashion_mnist`\n",
        "\n",
        "(~~The MNIST dataset is one of the widely used dataset for image classification, while it's too simple as a benchmark dataset. We will use the similar, but more complex Fashion-MNIST dataset~~)\n",
        "\n",
        "One of the widely used dataset for image classification is the  MNIST dataset :cite:`LeCun.Bottou.Bengio.ea.1998`.\n",
        "While it had a good run as a benchmark dataset,\n",
        "even simple models by today's standards achieve classification accuracy over 95%,\n",
        "making it unsuitable for distinguishing between stronger models and weaker ones.\n",
        "Today, MNIST serves as more of sanity checks than as a benchmark.\n",
        "To up the ante just a bit, we will focus our discussion in the coming sections\n",
        "on the qualitatively similar, but comparatively complex Fashion-MNIST\n",
        "dataset :cite:`Xiao.Rasul.Vollgraf.2017`, which was released in 2017.\n"
      ]
    },
    {
      "cell_type": "code",
      "execution_count": null,
      "metadata": {
        "origin_pos": 3,
        "tab": [
          "tensorflow"
        ],
        "id": "Oivka2gPtb1u"
      },
      "outputs": [],
      "source": [
        "%matplotlib inline\n",
        "import tensorflow as tf\n",
        "from d2l import tensorflow as d2l\n",
        "\n",
        "d2l.use_svg_display()"
      ]
    },
    {
      "cell_type": "markdown",
      "metadata": {
        "origin_pos": 4,
        "id": "ANNHn4Oftb1v"
      },
      "source": [
        "## Reading the Dataset\n",
        "\n",
        "We can [**download and read the Fashion-MNIST dataset into memory via the build-in functions in the framework.**]\n"
      ]
    },
    {
      "cell_type": "code",
      "execution_count": null,
      "metadata": {
        "origin_pos": 7,
        "tab": [
          "tensorflow"
        ],
        "id": "T2mG22aKtb1v"
      },
      "outputs": [],
      "source": [
        "mnist_train, mnist_test = tf.keras.datasets.fashion_mnist.load_data()"
      ]
    },
    {
      "cell_type": "markdown",
      "metadata": {
        "origin_pos": 8,
        "id": "tkDWm_MRtb1w"
      },
      "source": [
        "Fashion-MNIST consists of images from 10 categories, each represented\n",
        "by 6000 images in the training dataset and by 1000 in the test dataset.\n",
        "A *test dataset* (or *test set*) is used for evaluating  model performance and not for training.\n",
        "Consequently the training set and the test set\n",
        "contain 60000 and 10000 images, respectively.\n"
      ]
    },
    {
      "cell_type": "code",
      "execution_count": null,
      "metadata": {
        "origin_pos": 10,
        "tab": [
          "tensorflow"
        ],
        "id": "ijBKBfTttb1x"
      },
      "outputs": [],
      "source": [
        "len(mnist_train[0]), len(mnist_test[0])"
      ]
    },
    {
      "cell_type": "markdown",
      "metadata": {
        "origin_pos": 11,
        "id": "mNKJCOaWtb1z"
      },
      "source": [
        "The height and width of each input image are both 28 pixels.\n",
        "Note that the dataset consists of grayscale images, whose number of channels is 1.\n",
        "For brevity, throughout this book\n",
        "we store the shape of any image with height $h$ width $w$ pixels as $h \\times w$ or ($h$, $w$).\n"
      ]
    },
    {
      "cell_type": "code",
      "execution_count": null,
      "metadata": {
        "origin_pos": 12,
        "tab": [
          "tensorflow"
        ],
        "id": "yeGe5rOPtb10"
      },
      "outputs": [],
      "source": [
        "mnist_train[0][0].shape"
      ]
    },
    {
      "cell_type": "markdown",
      "metadata": {
        "origin_pos": 13,
        "id": "lyX7Mkrwtb12"
      },
      "source": [
        "[~~Two utility functions to visualize the dataset~~]\n",
        "\n",
        "The images in Fashion-MNIST are associated with the following categories:\n",
        "t-shirt, trousers, pullover, dress, coat, sandal, shirt, sneaker, bag, and ankle boot.\n",
        "The following function converts between numeric label indices and their names in text.\n"
      ]
    },
    {
      "cell_type": "code",
      "execution_count": null,
      "metadata": {
        "origin_pos": 14,
        "tab": [
          "tensorflow"
        ],
        "id": "rjoiZrGntb13"
      },
      "outputs": [],
      "source": [
        "def get_fashion_mnist_labels(labels):  #@save\n",
        "    \"\"\"Return text labels for the Fashion-MNIST dataset.\"\"\"\n",
        "    text_labels = ['t-shirt', 'trouser', 'pullover', 'dress', 'coat',\n",
        "                   'sandal', 'shirt', 'sneaker', 'bag', 'ankle boot']\n",
        "    return [text_labels[int(i)] for i in labels]"
      ]
    },
    {
      "cell_type": "markdown",
      "metadata": {
        "origin_pos": 15,
        "id": "h4IMXG6wtb14"
      },
      "source": [
        "We can now create a function to visualize these examples.\n"
      ]
    },
    {
      "cell_type": "code",
      "execution_count": null,
      "metadata": {
        "origin_pos": 16,
        "tab": [
          "tensorflow"
        ],
        "id": "ghoS9uv9tb14"
      },
      "outputs": [],
      "source": [
        "def show_images(imgs, num_rows, num_cols, titles=None, scale=1.5):  #@save\n",
        "    \"\"\"Plot a list of images.\"\"\"\n",
        "    figsize = (num_cols * scale, num_rows * scale)\n",
        "    _, axes = d2l.plt.subplots(num_rows, num_cols, figsize=figsize)\n",
        "    axes = axes.flatten()\n",
        "    for i, (ax, img) in enumerate(zip(axes, imgs)):\n",
        "        ax.imshow(img.numpy())\n",
        "        ax.axes.get_xaxis().set_visible(False)\n",
        "        ax.axes.get_yaxis().set_visible(False)\n",
        "        if titles:\n",
        "            ax.set_title(titles[i])\n",
        "    return axes"
      ]
    },
    {
      "cell_type": "markdown",
      "metadata": {
        "origin_pos": 18,
        "id": "YhyCLBzHtb16"
      },
      "source": [
        "Here are [**the images and their corresponding labels**] (in text)\n",
        "for the first few examples in the training dataset.\n"
      ]
    },
    {
      "cell_type": "code",
      "execution_count": null,
      "metadata": {
        "origin_pos": 21,
        "tab": [
          "tensorflow"
        ],
        "id": "blqgXVFWtb17"
      },
      "outputs": [],
      "source": [
        "X = tf.constant(mnist_train[0][:18])\n",
        "y = tf.constant(mnist_train[1][:18])\n",
        "show_images(X, 2, 9, titles=get_fashion_mnist_labels(y));"
      ]
    },
    {
      "cell_type": "markdown",
      "metadata": {
        "origin_pos": 22,
        "id": "mLD2SncUtb18"
      },
      "source": [
        "## Reading a Minibatch\n",
        "\n",
        "To make our life easier when reading from the training and test sets,\n",
        "we use the built-in data iterator rather than creating one from scratch.\n",
        "Recall that at each iteration, a data iterator\n",
        "[**reads a minibatch of data with size `batch_size` each time.**]\n",
        "We also randomly shuffle the examples for the training data iterator.\n"
      ]
    },
    {
      "cell_type": "code",
      "execution_count": null,
      "metadata": {
        "origin_pos": 25,
        "tab": [
          "tensorflow"
        ],
        "id": "OigPXSYNtb18"
      },
      "outputs": [],
      "source": [
        "batch_size = 256\n",
        "train_iter = tf.data.Dataset.from_tensor_slices(\n",
        "    mnist_train).batch(batch_size).shuffle(len(mnist_train[0]))"
      ]
    },
    {
      "cell_type": "markdown",
      "metadata": {
        "origin_pos": 26,
        "id": "pC-MI3ubtb19"
      },
      "source": [
        "Let us look at the time it takes to read the training data.\n"
      ]
    },
    {
      "cell_type": "code",
      "execution_count": null,
      "metadata": {
        "origin_pos": 27,
        "tab": [
          "tensorflow"
        ],
        "id": "WcSkf2VDtb19"
      },
      "outputs": [],
      "source": [
        "timer = d2l.Timer()\n",
        "for X, y in train_iter:\n",
        "    continue\n",
        "f'{timer.stop():.2f} sec'"
      ]
    },
    {
      "cell_type": "markdown",
      "metadata": {
        "origin_pos": 28,
        "id": "FQ1H6jK4tb1-"
      },
      "source": [
        "## Putting All Things Together\n",
        "\n",
        "Now we define [**the `load_data_fashion_mnist` function\n",
        "that obtains and reads the Fashion-MNIST dataset.**]\n",
        "It returns the data iterators for both the training set and validation set.\n",
        "In addition, it accepts an optional argument to resize images to another shape.\n"
      ]
    },
    {
      "cell_type": "code",
      "execution_count": null,
      "metadata": {
        "origin_pos": 31,
        "tab": [
          "tensorflow"
        ],
        "id": "3e2yAizVtb1-"
      },
      "outputs": [],
      "source": [
        "def load_data_fashion_mnist(batch_size, resize=None):   #@save\n",
        "    \"\"\"Download the Fashion-MNIST dataset and then load it into memory.\"\"\"\n",
        "    mnist_train, mnist_test = tf.keras.datasets.fashion_mnist.load_data()\n",
        "    # Divide all numbers by 255 so that all pixel values are between\n",
        "    # 0 and 1, add a batch dimension at the last. And cast label to int32\n",
        "    process = lambda X, y: (tf.expand_dims(X, axis=3) / 255,\n",
        "                            tf.cast(y, dtype='int32'))\n",
        "    resize_fn = lambda X, y: (\n",
        "        tf.image.resize_with_pad(X, resize, resize) if resize else X, y)\n",
        "    return (\n",
        "        tf.data.Dataset.from_tensor_slices(process(*mnist_train)).batch(\n",
        "            batch_size).shuffle(len(mnist_train[0])).map(resize_fn),\n",
        "        tf.data.Dataset.from_tensor_slices(process(*mnist_test)).batch(\n",
        "            batch_size).map(resize_fn))"
      ]
    },
    {
      "cell_type": "markdown",
      "metadata": {
        "origin_pos": 32,
        "id": "Zwi7CE6Jtb1-"
      },
      "source": [
        "Below we test the image resizing feature of the `load_data_fashion_mnist` function\n",
        "by specifying the `resize` argument.\n"
      ]
    },
    {
      "cell_type": "code",
      "execution_count": null,
      "metadata": {
        "origin_pos": 33,
        "tab": [
          "tensorflow"
        ],
        "id": "247_3SZitb1_"
      },
      "outputs": [],
      "source": [
        "train_iter, test_iter = load_data_fashion_mnist(32, resize=64)\n",
        "for X, y in train_iter:\n",
        "    print(X.shape, X.dtype, y.shape, y.dtype)\n",
        "    break"
      ]
    }
  ],
  "metadata": {
    "kernelspec": {
      "display_name": "Python 3",
      "name": "python3"
    },
    "language_info": {
      "name": "python"
    },
    "colab": {
      "name": "Week_9_Chapter_3_image_classification_dataset.ipynb",
      "provenance": [],
      "private_outputs": true,
      "collapsed_sections": [],
      "include_colab_link": true
    },
    "gpuClass": "standard"
  },
  "nbformat": 4,
  "nbformat_minor": 0
}