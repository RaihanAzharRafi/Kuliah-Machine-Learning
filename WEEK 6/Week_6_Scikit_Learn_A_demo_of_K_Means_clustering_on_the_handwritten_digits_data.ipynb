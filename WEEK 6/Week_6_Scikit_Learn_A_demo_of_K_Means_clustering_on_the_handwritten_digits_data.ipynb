{
  "nbformat": 4,
  "nbformat_minor": 0,
  "metadata": {
    "colab": {
      "name": "Week 6_Scikit Learn A demo of K-Means clustering on the handwritten digits data.ipynb",
      "provenance": [],
      "authorship_tag": "ABX9TyOqCNYCEws8KchzlTKyRPNB",
      "include_colab_link": true
    },
    "kernelspec": {
      "name": "python3",
      "display_name": "Python 3"
    },
    "language_info": {
      "name": "python"
    }
  },
  "cells": [
    {
      "cell_type": "markdown",
      "metadata": {
        "id": "view-in-github",
        "colab_type": "text"
      },
      "source": [
        "<a href=\"https://colab.research.google.com/github/RaihanAzharRafi/Kuliah-Machine-Learning/blob/main/WEEK%206/Week_6_Scikit_Learn_A_demo_of_K_Means_clustering_on_the_handwritten_digits_data.ipynb\" target=\"_parent\"><img src=\"https://colab.research.google.com/assets/colab-badge.svg\" alt=\"Open In Colab\"/></a>"
      ]
    },
    {
      "cell_type": "markdown",
      "source": [
        "# **A demo of K-Means clustering on the handwritten digits data**\n",
        "### **Nama : Raihan Azhar Rafi**\n",
        "### **Kelas : TK-42-02**\n",
        "### **Nim : 1103180166**\n",
        "\n",
        "Sumber Saya Peroleh Dari : https://scikit-learn.org/stable/auto_examples/cluster/plot_kmeans_digits.html#sphx-glr-auto-examples-cluster-plot-kmeans-digits-py"
      ],
      "metadata": {
        "id": "hDreC0tefB6B"
      }
    },
    {
      "cell_type": "markdown",
      "source": [
        "Import and Process Library Modules Base On Scikit Learn Tutorial"
      ],
      "metadata": {
        "id": "SrG7N1a4f0OH"
      }
    },
    {
      "cell_type": "code",
      "execution_count": 1,
      "metadata": {
        "id": "tVz5cGvreVh2"
      },
      "outputs": [],
      "source": [
        "import numpy as np\n",
        "from sklearn.datasets import load_digits\n",
        "\n",
        "from time import time\n",
        "from sklearn import metrics\n",
        "from sklearn.pipeline import make_pipeline\n",
        "from sklearn.preprocessing import StandardScaler\n",
        "\n",
        "from sklearn.cluster import KMeans\n",
        "from sklearn.decomposition import PCA\n",
        "\n",
        "import matplotlib.pyplot as plt"
      ]
    },
    {
      "cell_type": "markdown",
      "source": [
        "Calling and Process The Dataset"
      ],
      "metadata": {
        "id": "niaQCBU5gQ01"
      }
    },
    {
      "cell_type": "code",
      "source": [
        "data, labels = load_digits(return_X_y=True)\n",
        "(n_samples, n_features), n_digits = data.shape, np.unique(labels).size\n",
        "\n",
        "print(f\"# digits: {n_digits}; # samples: {n_samples}; # features {n_features}\")"
      ],
      "metadata": {
        "colab": {
          "base_uri": "https://localhost:8080/"
        },
        "id": "AuQS_m85gZAc",
        "outputId": "e12c6fc1-26a6-40dc-c9b6-82f117f8ffc9"
      },
      "execution_count": 2,
      "outputs": [
        {
          "output_type": "stream",
          "name": "stdout",
          "text": [
            "# digits: 10; # samples: 1797; # features 64\n"
          ]
        }
      ]
    },
    {
      "cell_type": "markdown",
      "source": [
        "Working Benchmark of KMeans Methods"
      ],
      "metadata": {
        "id": "hAIsiDN3gsmm"
      }
    },
    {
      "cell_type": "code",
      "source": [
        "def bench_k_means(kmeans, name, data, labels):\n",
        "    \"\"\"Benchmark to evaluate the KMeans initialization methods.\n",
        "\n",
        "    Parameters\n",
        "    ----------\n",
        "    kmeans : KMeans instance\n",
        "        A :class:`~sklearn.cluster.KMeans` instance with the initialization\n",
        "        already set.\n",
        "    name : str\n",
        "        Name given to the strategy. It will be used to show the results in a\n",
        "        table.\n",
        "    data : ndarray of shape (n_samples, n_features)\n",
        "        The data to cluster.\n",
        "    labels : ndarray of shape (n_samples,)\n",
        "        The labels used to compute the clustering metrics which requires some\n",
        "        supervision.\n",
        "    \"\"\"\n",
        "    t0 = time()\n",
        "    estimator = make_pipeline(StandardScaler(), kmeans).fit(data)\n",
        "    fit_time = time() - t0\n",
        "    results = [name, fit_time, estimator[-1].inertia_]\n",
        "\n",
        "    # Define the metrics which require only the true labels and estimator\n",
        "    # labels\n",
        "    clustering_metrics = [\n",
        "        metrics.homogeneity_score,\n",
        "        metrics.completeness_score,\n",
        "        metrics.v_measure_score,\n",
        "        metrics.adjusted_rand_score,\n",
        "        metrics.adjusted_mutual_info_score,\n",
        "    ]\n",
        "    results += [m(labels, estimator[-1].labels_) for m in clustering_metrics]\n",
        "\n",
        "    # The silhouette score requires the full dataset\n",
        "    results += [\n",
        "        metrics.silhouette_score(\n",
        "            data,\n",
        "            estimator[-1].labels_,\n",
        "            metric=\"euclidean\",\n",
        "            sample_size=300,\n",
        "        )\n",
        "    ]\n",
        "\n",
        "    # Show the results\n",
        "    formatter_result = (\n",
        "        \"{:9s}\\t{:.3f}s\\t{:.0f}\\t{:.3f}\\t{:.3f}\\t{:.3f}\\t{:.3f}\\t{:.3f}\\t{:.3f}\"\n",
        "    )\n",
        "    print(formatter_result.format(*results))"
      ],
      "metadata": {
        "id": "fhKK2CJkgliX"
      },
      "execution_count": 3,
      "outputs": []
    },
    {
      "cell_type": "markdown",
      "source": [
        "Process and Running Benchmark of KMeans Methods"
      ],
      "metadata": {
        "id": "yHlNLF2yhFSy"
      }
    },
    {
      "cell_type": "code",
      "source": [
        "from sklearn.cluster import KMeans\n",
        "from sklearn.decomposition import PCA\n",
        "\n",
        "print(82 * \"_\")\n",
        "print(\"init\\t\\ttime\\tinertia\\thomo\\tcompl\\tv-meas\\tARI\\tAMI\\tsilhouette\")\n",
        "\n",
        "kmeans = KMeans(init=\"k-means++\", n_clusters=n_digits, n_init=4, random_state=0)\n",
        "bench_k_means(kmeans=kmeans, name=\"k-means++\", data=data, labels=labels)\n",
        "\n",
        "kmeans = KMeans(init=\"random\", n_clusters=n_digits, n_init=4, random_state=0)\n",
        "bench_k_means(kmeans=kmeans, name=\"random\", data=data, labels=labels)\n",
        "\n",
        "pca = PCA(n_components=n_digits).fit(data)\n",
        "kmeans = KMeans(init=pca.components_, n_clusters=n_digits, n_init=1)\n",
        "bench_k_means(kmeans=kmeans, name=\"PCA-based\", data=data, labels=labels)\n",
        "\n",
        "print(82 * \"_\")"
      ],
      "metadata": {
        "colab": {
          "base_uri": "https://localhost:8080/"
        },
        "id": "bbVvMGNdhEiX",
        "outputId": "bcb9c46c-c6ae-4718-c53b-0a8eac363040"
      },
      "execution_count": 4,
      "outputs": [
        {
          "output_type": "stream",
          "name": "stdout",
          "text": [
            "__________________________________________________________________________________\n",
            "init\t\ttime\tinertia\thomo\tcompl\tv-meas\tARI\tAMI\tsilhouette\n",
            "k-means++\t0.580s\t69662\t0.680\t0.719\t0.699\t0.570\t0.695\t0.173\n",
            "random   \t0.237s\t69707\t0.675\t0.716\t0.694\t0.560\t0.691\t0.185\n",
            "PCA-based\t0.197s\t72686\t0.636\t0.658\t0.647\t0.521\t0.643\t0.148\n",
            "__________________________________________________________________________________\n"
          ]
        }
      ]
    },
    {
      "cell_type": "markdown",
      "source": [
        "Visualize the results on PCA-reduced data"
      ],
      "metadata": {
        "id": "QSSjZRIEhZme"
      }
    },
    {
      "cell_type": "code",
      "source": [
        "import matplotlib.pyplot as plt\n",
        "\n",
        "reduced_data = PCA(n_components=2).fit_transform(data)\n",
        "kmeans = KMeans(init=\"k-means++\", n_clusters=n_digits, n_init=4)\n",
        "kmeans.fit(reduced_data)\n",
        "\n",
        "# Step size of the mesh. Decrease to increase the quality of the VQ.\n",
        "h = 0.02  # point in the mesh [x_min, x_max]x[y_min, y_max].\n",
        "\n",
        "# Plot the decision boundary. For that, we will assign a color to each\n",
        "x_min, x_max = reduced_data[:, 0].min() - 1, reduced_data[:, 0].max() + 1\n",
        "y_min, y_max = reduced_data[:, 1].min() - 1, reduced_data[:, 1].max() + 1\n",
        "xx, yy = np.meshgrid(np.arange(x_min, x_max, h), np.arange(y_min, y_max, h))\n",
        "\n",
        "# Obtain labels for each point in mesh. Use last trained model.\n",
        "Z = kmeans.predict(np.c_[xx.ravel(), yy.ravel()])\n",
        "\n",
        "# Put the result into a color plot\n",
        "Z = Z.reshape(xx.shape)\n",
        "plt.figure(1)\n",
        "plt.clf()\n",
        "plt.imshow(\n",
        "    Z,\n",
        "    interpolation=\"nearest\",\n",
        "    extent=(xx.min(), xx.max(), yy.min(), yy.max()),\n",
        "    cmap=plt.cm.Paired,\n",
        "    aspect=\"auto\",\n",
        "    origin=\"lower\",\n",
        ")\n",
        "\n",
        "plt.plot(reduced_data[:, 0], reduced_data[:, 1], \"k.\", markersize=2)\n",
        "# Plot the centroids as a white X\n",
        "centroids = kmeans.cluster_centers_\n",
        "plt.scatter(\n",
        "    centroids[:, 0],\n",
        "    centroids[:, 1],\n",
        "    marker=\"x\",\n",
        "    s=169,\n",
        "    linewidths=3,\n",
        "    color=\"w\",\n",
        "    zorder=10,\n",
        ")\n",
        "plt.title(\n",
        "    \"K-means clustering on the digits dataset (PCA-reduced data)\\n\"\n",
        "    \"Centroids are marked with white cross\"\n",
        ")\n",
        "plt.xlim(x_min, x_max)\n",
        "plt.ylim(y_min, y_max)\n",
        "plt.xticks(())\n",
        "plt.yticks(())\n",
        "plt.show()"
      ],
      "metadata": {
        "colab": {
          "base_uri": "https://localhost:8080/",
          "height": 282
        },
        "id": "uM8koRpnhbDT",
        "outputId": "ff645736-34d5-4912-e8cb-7a2313df321a"
      },
      "execution_count": 5,
      "outputs": [
        {
          "output_type": "display_data",
          "data": {
            "text/plain": [
              "<Figure size 432x288 with 1 Axes>"
            ],
            "image/png": "[encoded data removed]"
          },
          "metadata": {}
        }
      ]
    }
  ]
}